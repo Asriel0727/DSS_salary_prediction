{
 "cells": [
  {
   "cell_type": "markdown",
   "metadata": {},
   "source": [
    "# 薪資預測與職涯規劃"
   ]
  },
  {
   "cell_type": "markdown",
   "metadata": {},
   "source": [
    "## 目錄\n",
    "- 資料預處理\n",
    "- 資料庫建立\n",
    "- 模型建構\n",
    "- 介面開發"
   ]
  },
  {
   "cell_type": "markdown",
   "metadata": {},
   "source": [
    "### 資料預處理"
   ]
  },
  {
   "cell_type": "markdown",
   "metadata": {},
   "source": [
    "### 資料庫建立"
   ]
  },
  {
   "cell_type": "code",
   "execution_count": 2,
   "metadata": {},
   "outputs": [
    {
     "data": {
      "text/plain": [
       "0      None\n",
       "1      None\n",
       "2      None\n",
       "3      None\n",
       "4      None\n",
       "       ... \n",
       "363    None\n",
       "364    None\n",
       "365    None\n",
       "366    None\n",
       "367    None\n",
       "Length: 368, dtype: object"
      ]
     },
     "execution_count": 2,
     "metadata": {},
     "output_type": "execute_result"
    },
    {
     "name": "stdout",
     "output_type": "stream",
     "text": [
      "(368, 'MIC', 'Sales', 6.0, 2.0, 4.2, 2.0, 180, 2, 2, 4)\n",
      "(367, 'ME', 'Sustomer service', 0.0, 1.0, 3.6, 1.0, 230, 0, 5, 0)\n",
      "(366, 'QUANTA', 'Software Engineer', 5.0, 1.0, 4.5, 5.0, 200, 3, 3, 5)\n",
      "(365, 'ME', 'VTuber project production', 0.0, 1.0, 3.9, 0.0, 104, 0, 5, 1)\n",
      "(364, 'Yang Ming Marine Transport Corp', 'Legal', 0.0, 1.0, 4.3, 0.0, 160, 1, 4, 2)\n"
     ]
    }
   ],
   "source": [
    "from sqlalchemy import create_engine, Column, Integer, String, Float, MetaData, Table, desc\n",
    "from sqlalchemy.orm import sessionmaker\n",
    "import pandas as pd\n",
    "import os\n",
    "\n",
    "# Database file path\n",
    "db_file = 'salary_database.db'\n",
    "\n",
    "# Delete the existing database file if it exists\n",
    "if os.path.exists(db_file):\n",
    "    os.remove(db_file)\n",
    "    \n",
    "# Define the database schema\n",
    "metadata = MetaData()\n",
    "\n",
    "# Define the table structure\n",
    "data_table = Table('salary_data', metadata,\n",
    "                   Column('id', Integer, primary_key=True),\n",
    "                   Column('company_name', String),\n",
    "                   Column('position', String),\n",
    "                   Column('related_experience_years', Float),\n",
    "                   Column('current_job_experience_years', Float),\n",
    "                   Column('monthly_salary', Float),\n",
    "                   Column('monthly_bonus', Float),\n",
    "                   Column('average_monthly_working_hours', Integer),\n",
    "                   Column('overtime_frequency', Integer),\n",
    "                   Column('comfort_level', Integer),\n",
    "                   Column('workload', Integer))\n",
    "\n",
    "# Create a file-based SQLite database\n",
    "engine = create_engine(f'sqlite:///{db_file}')\n",
    "metadata.create_all(engine)\n",
    "\n",
    "# Create a session\n",
    "Session = sessionmaker(bind=engine)\n",
    "session = Session()\n",
    "\n",
    "# Load the CSV file\n",
    "df = pd.read_csv('./rewrite.csv')  # Replace with the path to your CSV file\n",
    "\n",
    "# Function to add a row to the database\n",
    "def add_row(row):\n",
    "    insert_statement = data_table.insert().values(\n",
    "        company_name=row['公司名稱'],\n",
    "        position=row['職務'],\n",
    "        related_experience_years=row['相關年資(Y)'],\n",
    "        current_job_experience_years=row['現職年資(Y)'],\n",
    "        monthly_salary=row['月底薪(萬)'],\n",
    "        monthly_bonus=row['Bonus (月)'],\n",
    "        average_monthly_working_hours=row['每月平均工時'],\n",
    "        overtime_frequency=row['加班頻率'],\n",
    "        comfort_level=row['爽度(1~5) 5最爽'],\n",
    "        workload=row['Loading(5最重)'])\n",
    "    session.execute(insert_statement)\n",
    "\n",
    "# Import data into the database\n",
    "df.apply(add_row, axis=1)\n",
    "session.commit()\n",
    "\n",
    "# Querying the last 5 entries from the database\n",
    "query_result = session.query(data_table).order_by(desc(data_table.c.id)).limit(5).all()\n",
    "for row in query_result:\n",
    "    print(row)  # This will print out the last five rows from the database\n",
    "\n",
    "# Close the session\n",
    "session.close()"
   ]
  },
  {
   "cell_type": "markdown",
   "metadata": {},
   "source": [
    "### 模型建構"
   ]
  },
  {
   "cell_type": "code",
   "execution_count": null,
   "metadata": {},
   "outputs": [],
   "source": [
    "import numpy as np\n",
    "import pandas as pd\n",
    "from sklearn.ensemble import RandomForestRegressor\n",
    "from sklearn.metrics import mean_squared_error, r2_score\n",
    "from sklearn.model_selection import train_test_split\n",
    "from sklearn.preprocessing import LabelEncoder\n",
    "\n",
    "# 讀取數據\n",
    "file_path = './rewrite.csv'\n",
    "df = pd.read_csv(file_path)\n",
    "df_2 = pd.read_csv(file_path)\n",
    "\n",
    "# 將指定列轉換為浮點數\n",
    "cols_to_float = ['相關年資(Y)', '現職年資(Y)', '月底薪(萬)', 'Bonus (月)', '每月平均工時', '加班頻率', \n",
    "                 '爽度(1~5) 5最爽', 'Loading(5最重)']\n",
    "for col in cols_to_float:\n",
    "    df[col] = pd.to_numeric(df[col], errors='coerce')\n",
    "\n",
    "# 確定需要進行標籤編碼的非數值列\n",
    "non_numeric_cols = df.select_dtypes(include=['object']).columns\n",
    "\n",
    "df = df.dropna()\n",
    "\n",
    "# 為每個非數值列進行標籤編碼\n",
    "for col in non_numeric_cols:\n",
    "    df[col] = LabelEncoder().fit_transform(df[col].astype(str))\n",
    "\n",
    "# 選擇特徵和目標變量\n",
    "X = df.drop(columns=['月底薪(萬)'])  # 特徵數據\n",
    "y = df['月底薪(萬)']  # 目標數據\n",
    "\n",
    "# 分割數據集\n",
    "X_train, X_test, y_train, y_test = train_test_split(X, y, test_size=0.2, random_state=45)\n",
    "\n",
    "# 創建隨機森林回歸模型並訓練\n",
    "rf_model = RandomForestRegressor(random_state=19)\n",
    "rf_model.fit(X_train, y_train)\n",
    "\n",
    "# 進行預測並評估模型\n",
    "y_pred = rf_model.predict(X_test)\n",
    "rmse_rf = np.sqrt(mean_squared_error(y_test, y_pred))\n",
    "r2_rf = r2_score(y_test, y_pred)\n",
    "\n",
    "print(\"RMSE:\", rmse_rf)\n",
    "print(\"R^2:\", r2_rf)"
   ]
  },
  {
   "cell_type": "markdown",
   "metadata": {},
   "source": [
    "### 介面開發"
   ]
  },
  {
   "cell_type": "code",
   "execution_count": 4,
   "metadata": {},
   "outputs": [
    {
     "data": {
      "text/plain": [
       "RandomForestRegressor(random_state=19)"
      ]
     },
     "execution_count": 4,
     "metadata": {},
     "output_type": "execute_result"
    },
    {
     "name": "stdout",
     "output_type": "stream",
     "text": [
      "RMSE: 2.3036399428917895\n",
      "R^2: 0.5076826218908912\n",
      "JSON 文件內容:\n",
      "{'Acer': 63, 'Advantech': 64, 'AICS': 65, 'AMD': 66, 'Amway': 67, 'Andes': 68, 'Anpec': 69, 'ASA tools': 70, 'ASUS': 71, 'AUO': 72, 'Billion Technology Enginerring': 73, 'Buddist Tzu Chi Medical Foundation': 74, 'cacaFly': 75, 'Canon': 76, 'Chailease Finance': 77, 'CHT': 78, 'Compal': 79, 'cp': 80, 'Deloitte & Touche': 81, 'DELTA': 82, 'Digit Spark': 83, 'DIGITIMES': 84, 'eCloudvalley': 85, 'Edimax': 86, 'Elan': 87, 'Ememory': 88, 'Eternal Materials': 89, 'Etron': 90, 'Faraday': 91, 'FET': 92, 'Fiti': 93, 'FocalTech': 94, 'FWD': 95, 'GEMTEK': 96, 'Gf': 97, 'GREEN': 98, 'GS Marketing': 99, 'GUC': 100, 'Himax': 101, 'HOBOT Technology': 102, 'Holtek': 103, 'HTC': 104, 'Huawei': 105, 'iCatch': 106, 'Ilitek': 107, 'Infortrend': 108, 'InnoFusion': 109, 'Innolux': 110, 'Intel': 111, 'ITRI': 112, 'Jetly': 113, 'Kdan Mobile': 114, 'Keysight Technologies': 115, 'KGI Bank': 116, \"King's Town Bank\": 117, 'Kinmax': 118, 'KYEC': 119, 'Landbank': 120, 'Linde Lienhwa Industrial Gases': 121, 'LINE': 122, 'LOUIS YEN INTERNATIONAL': 123, 'ME': 124, 'Megabank': 125, 'MIC': 126, 'Microchip': 127, 'MSi': 128, 'MTK': 129, 'MTK的子公司': 130, 'MYK': 131, 'Nanshanlife': 132, 'Netlink': 133, 'Nogle': 134, 'Nova': 135, 'Novatek': 136, 'NPC': 137, 'Nuvoton': 138, 'NVIDIA': 139, 'Ogilvy': 140, 'Panasonic': 141, 'Pegatron': 142, 'Phison': 143, 'PixArt Imaging': 144, 'PwC': 145, 'Q': 146, 'QCOM': 147, 'QUANTA': 148, 'Raydium': 149, 'Realtek': 150, 'Renesas': 151, 'Richtek': 152, 'Richwave': 153, 'Roborock': 154, 'SAS': 155, 'SAYA Network': 156, 'Shin Kong Life Insurance': 157, 'Silicon Motion Technology': 158, 'Singo': 159, 'SINOPAC': 160, 'Sinyi Realty': 161, 'SMI': 162, 'Sogo': 163, 'Subtron': 164, 'SUNPLUS': 165, 'Synnex': 166, 'Synopsys': 167, 'Syuhe': 168, 'T': 169, 'TAILEE': 170, 'Taiyo Yuden': 171, 'TCB Bank': 172, 'Transcend': 173, 'TSMC': 174, 'TSMC的子公司': 175, 'TWSE': 176, 'UMC': 177, 'Universal Global': 178, 'ViewSonic': 179, 'WebComm': 180, 'Wistron': 181, 'Wistron ITS': 182, 'WT Microelectronics': 183, 'Xilinx': 184, 'Yang Ming Marine Transport Corp': 185}\n",
      "JSON 文件內容:\n",
      "{'Account Manager': 0, 'Accountant': 1, 'Actuary': 2, 'Administration Accounting Specialist': 3, 'Administration Manager': 4, 'Advanced Engineer': 5, 'AI Software Development Engineer': 6, 'Algorithm Engineer': 7, 'Analog IC Designer': 8, 'Analog IC Engineer': 9, 'Analog R&D Engineer': 10, 'Analyst': 11, 'Application Engineer': 12, 'APR Engineer': 13, 'Assistant': 14, 'Assistant Manager': 15, 'Assistant Officer': 16, 'Attending Physician': 17, 'Auditor': 18, 'Bank Clerk': 19, 'Business Analyst': 20, 'Business Analyst Assistant Manager': 21, 'Chief Engineer': 22, 'Community management': 23, 'Contract Manager': 24, 'Data Analyst': 25, 'Data Engineer': 26, 'Data Scientist': 27, 'Design Verification Director': 28, 'Digital Designer': 29, 'Digital Designer Engineer': 30, 'Digital IC Design Engineer': 31, 'Digital IC Engineer': 32, 'Digital RD Engineer': 33, 'Digital Verification Engineer': 34, 'Editor ': 35, 'EMB Software Engineer': 36, 'Engineer': 37, 'Field Application Engineer': 38, 'Finance': 39, 'Finance Director': 40, 'Finance Manager': 41, 'Financial Analyst Specialist': 42, 'Firmware Engineer': 43, 'Firmware R&D Engineer': 44, 'Firmware System Designer': 45, 'Front Desk Attendant': 46, 'IC Engineer': 47, 'IC Layout Engineer': 48, 'Industrial Engineer': 49, 'International Sales': 50, 'Japanese Sales': 51, 'Lawyer': 52, 'Legal': 53, 'Legal Assistant Manager': 54, 'Manager': 55, 'Marketing': 56, 'Mechanical Engineer': 57, 'Patent Engineer': 58, 'Planner': 59, 'Product Designer': 60, 'Project Consultant': 61, 'Project Finance': 62, 'Project Manager': 63, 'Purchasing Agent': 64, 'QA Engineer': 65, 'R&D Engineer': 66, 'Relationship Manager': 67, 'Researcher': 68, 'RFIC Design Engineer': 69, 'Sales': 70, 'Sales Agent': 71, 'Sales Assistant': 72, 'Sales Assistant Manager': 73, 'Sales Coordinator': 74, 'Sales Engineer': 75, 'Sales Executive': 76, 'Sales Manager': 77, 'Senior Analog IC Engineer': 78, 'Senior Associate': 79, 'Senior Engineer': 80, 'Senior Manager': 81, 'Senior Software Engineer': 82, 'Silicon Design Engineer': 83, 'Software and Firmware Engineer': 84, 'Software Developer': 85, 'Software Development Engineer': 86, 'Software Engineer': 87, 'Specialist': 88, 'SQA Engineer': 89, 'Staff Application Engineer': 90, 'Stock Manager': 91, 'Sustomer service': 92, 'System Application Engineer': 93, 'System Designer': 94, 'Systems Analyst': 95, 'Systems Application Engineer': 96, 'Technical Manager': 97, 'Technician': 98, 'Technician Assistant Manager': 99, 'Technician Supervisor': 100, 'Testing Engineer': 101, 'Transactor': 102, 'UI/UX Designer': 103, 'Verification R&D Engineer': 104, 'Video Producer': 105, 'VTuber project production': 106}\n"
     ]
    },
    {
     "data": {
      "text/plain": [
       "''"
      ]
     },
     "execution_count": 4,
     "metadata": {},
     "output_type": "execute_result"
    },
    {
     "ename": "KeyboardInterrupt",
     "evalue": "",
     "output_type": "error",
     "traceback": [
      "\u001b[0;31m---------------------------------------------------------------------------\u001b[0m",
      "\u001b[0;31mKeyboardInterrupt\u001b[0m                         Traceback (most recent call last)",
      "\u001b[0;32m/var/folders/f1/29cpd5016836mdqdggl5gg600000gn/T/ipykernel_28818/2464532941.py\u001b[0m in \u001b[0;36m<module>\u001b[0;34m\u001b[0m\n\u001b[1;32m    172\u001b[0m \u001b[0;34m\u001b[0m\u001b[0m\n\u001b[1;32m    173\u001b[0m \u001b[0;31m# 啟動主循環\u001b[0m\u001b[0;34m\u001b[0m\u001b[0;34m\u001b[0m\u001b[0m\n\u001b[0;32m--> 174\u001b[0;31m \u001b[0mapp\u001b[0m\u001b[0;34m.\u001b[0m\u001b[0mmainloop\u001b[0m\u001b[0;34m(\u001b[0m\u001b[0;34m)\u001b[0m\u001b[0;34m\u001b[0m\u001b[0;34m\u001b[0m\u001b[0m\n\u001b[0m",
      "\u001b[0;32m~/opt/anaconda3/lib/python3.9/tkinter/__init__.py\u001b[0m in \u001b[0;36mmainloop\u001b[0;34m(self, n)\u001b[0m\n\u001b[1;32m   1427\u001b[0m     \u001b[0;32mdef\u001b[0m \u001b[0mmainloop\u001b[0m\u001b[0;34m(\u001b[0m\u001b[0mself\u001b[0m\u001b[0;34m,\u001b[0m \u001b[0mn\u001b[0m\u001b[0;34m=\u001b[0m\u001b[0;36m0\u001b[0m\u001b[0;34m)\u001b[0m\u001b[0;34m:\u001b[0m\u001b[0;34m\u001b[0m\u001b[0;34m\u001b[0m\u001b[0m\n\u001b[1;32m   1428\u001b[0m         \u001b[0;34m\"\"\"Call the mainloop of Tk.\"\"\"\u001b[0m\u001b[0;34m\u001b[0m\u001b[0;34m\u001b[0m\u001b[0m\n\u001b[0;32m-> 1429\u001b[0;31m         \u001b[0mself\u001b[0m\u001b[0;34m.\u001b[0m\u001b[0mtk\u001b[0m\u001b[0;34m.\u001b[0m\u001b[0mmainloop\u001b[0m\u001b[0;34m(\u001b[0m\u001b[0mn\u001b[0m\u001b[0;34m)\u001b[0m\u001b[0;34m\u001b[0m\u001b[0;34m\u001b[0m\u001b[0m\n\u001b[0m\u001b[1;32m   1430\u001b[0m \u001b[0;34m\u001b[0m\u001b[0m\n\u001b[1;32m   1431\u001b[0m     \u001b[0;32mdef\u001b[0m \u001b[0mquit\u001b[0m\u001b[0;34m(\u001b[0m\u001b[0mself\u001b[0m\u001b[0;34m)\u001b[0m\u001b[0;34m:\u001b[0m\u001b[0;34m\u001b[0m\u001b[0;34m\u001b[0m\u001b[0m\n",
      "\u001b[0;31mKeyboardInterrupt\u001b[0m: "
     ]
    },
    {
     "ename": "",
     "evalue": "",
     "output_type": "error",
     "traceback": [
      "\u001b[1;31m在目前儲存格或上一個儲存格中執行程式碼時，Kernel 已損毀。請檢閱儲存格中的程式碼，找出失敗的可能原因。如需詳細資訊，請按一下<a href='https://aka.ms/vscodeJupyterKernelCrash'>這裡</a>。檢視 Jupyter <a href='command:jupyter.viewOutput'>記錄</a>，以取得進一步的詳細資料。"
     ]
    }
   ],
   "source": [
    "import json\n",
    "import pandas as pd\n",
    "from sklearn.preprocessing import LabelEncoder\n",
    "import tkinter as tk\n",
    "from tkinter import ttk\n",
    "\n",
    "# 讀取數據\n",
    "file_path = './rewrite.csv'\n",
    "df_2 = pd.read_csv(file_path)\n",
    "\n",
    "# 載入公司對應的編碼映射 指定檔案編碼為 utf-8\n",
    "with open('company.txt', 'r', encoding='utf-8') as file:\n",
    "    try:\n",
    "        company = json.load(file)\n",
    "        print(\"JSON 文件內容:\")\n",
    "        print(company)\n",
    "    except json.JSONDecodeError as e:\n",
    "        print(\"解碼 JSON 時發生錯誤:\", e)\n",
    "\n",
    "# 載入職位對應的編碼映射\n",
    "with open('job_title_to_number_mapping.txt', 'r') as file:\n",
    "    try:\n",
    "        job_title_to_number = json.load(file)\n",
    "        print(\"JSON 文件內容:\")\n",
    "        print(job_title_to_number)\n",
    "    except json.JSONDecodeError as e:\n",
    "        print(f\"JSON 解碼錯誤: {e}\")\n",
    "\n",
    "def center_window(window):\n",
    "    window.update_idletasks()\n",
    "    width = window.winfo_width()\n",
    "    height = window.winfo_height()\n",
    "    x_coordinate = (window.winfo_screenwidth() - width) // 2\n",
    "    y_coordinate = (window.winfo_screenheight() - height) // 2\n",
    "    window.geometry(f\"{width}x{height}+{x_coordinate}+{y_coordinate}\")\n",
    "\n",
    "# 創建應用程序窗口\n",
    "app = tk.Tk()\n",
    "app.title(\"薪資預測應用\")\n",
    "\n",
    "# 創建公司名稱下拉選單\n",
    "company_label = tk.Label(app, text=\"公司名稱:\")\n",
    "company_label.grid(row=0, column=0, padx=10, pady=5)\n",
    "company_var = tk.StringVar()\n",
    "company_dropdown = ttk.Combobox(app, textvariable=company_var, values=list(company.keys()))\n",
    "company_dropdown.grid(row=0, column=1, padx=10, pady=5)\n",
    "company_dropdown.configure(width=30)\n",
    "\n",
    "# 創建職務下拉選單\n",
    "position_label = tk.Label(app, text=\"職務:\")\n",
    "position_label.grid(row=1, column=0, padx=10, pady=5)\n",
    "position_var = tk.StringVar()\n",
    "position_dropdown = ttk.Combobox(app, textvariable=position_var, values=list(job_title_to_number.keys()))\n",
    "position_dropdown.grid(row=1, column=1, padx=10, pady=5)\n",
    "position_dropdown.configure(width=30)\n",
    "\n",
    "# 創建其他輸入框\n",
    "labels = [\"相關年資(Y)\", \"現職年資(Y)\", \"Bonus (月)\", \"每月平均工時\", \"加班頻率\", \"爽度(1~5) 5最爽\", \"Loading(5最重)\"]\n",
    "variables = [tk.DoubleVar(value = None) for _ in labels]\n",
    "entries = [ttk.Entry(app, textvariable=var) for var in variables]\n",
    "\n",
    "for i, label in enumerate(labels):\n",
    "    tk.Label(app, text=label + \":\").grid(row=i + 2, column=0, padx=10, pady=5)\n",
    "    entries[i].grid(row=i + 2, column=1, padx=10, pady=5)\n",
    "    entries[i].configure(width=30)\n",
    "\n",
    "# 定義預測函數\n",
    "def predict_salary(df):\n",
    "\n",
    "    non_numeric_cols_2 = df_2.select_dtypes(include=['object']).columns\n",
    "\n",
    "    if all(entry.get() != '' and entry.get().replace('.', '').isdigit() for entry in entries):\n",
    "        \n",
    "        data = pd.DataFrame({\n",
    "            '公司名稱': [company_var.get()],\n",
    "            '職務': [position_var.get()],\n",
    "            '相關年資(Y)': [variables[0].get()],\n",
    "            '現職年資(Y)': [variables[1].get()],\n",
    "            'Bonus (月)': [variables[2].get()],\n",
    "            '每月平均工時': [variables[3].get()],\n",
    "            '加班頻率': [variables[4].get()],\n",
    "            '爽度(1~5) 5最爽': [variables[5].get()],\n",
    "            'Loading(5最重)': [variables[6].get()]\n",
    "        })\n",
    "\n",
    "        # 針對非數值進行標籤編碼\n",
    "        label_encoders = {} \n",
    "        # 合併訓練集和測試集的非數值類型資料\n",
    "        combined_data = pd.concat([df[non_numeric_cols_2], data[non_numeric_cols_2]], axis=0)\n",
    "\n",
    "        # 創建 LabelEncoder 物件並對所有資料進行編碼\n",
    "        label_encoders = {}\n",
    "        for col in non_numeric_cols_2:\n",
    "            label_encoders[col] = LabelEncoder()\n",
    "            combined_data[col] = label_encoders[col].fit_transform(combined_data[col].astype(str))\n",
    "\n",
    "        # 將編碼應用到訓練集和測試集的資料上\n",
    "        for col in non_numeric_cols_2:\n",
    "            df[col] = label_encoders[col].transform(df[col].astype(str))\n",
    "            data[col] = label_encoders[col].transform(data[col].astype(str))\n",
    "\n",
    "        predicted_salary = rf_model.predict(data)\n",
    "        print(\"Predicted Salary:\", predicted_salary)\n",
    "        result_label.config(text=f\"預測薪資: {round(predicted_salary[0], 1)} 萬\",fg=\"black\")\n",
    "    else:\n",
    "        result_label.config(text=\"請填寫所有輸入框，且輸入有效數字\", fg=\"red\")  # 設定文字顏色為紅色\n",
    "\n",
    "# 添加預測按鈕\n",
    "predict_button = tk.Button(app, text=\"預測薪資\", command=lambda: predict_salary(df))\n",
    "predict_button.grid(row=len(labels) + 2, column=0, columnspan=2, pady=10)\n",
    "\n",
    "# 顯示預測結果的標籤\n",
    "result_label = tk.Label(app, text=\"\")\n",
    "result_label.grid(row=len(labels) + 3, column=0, columnspan=2, pady=5)\n",
    "\n",
    "# 設定 grid 權重，使其能夠自適應大小\n",
    "for i in range(len(labels) + 4):\n",
    "    app.grid_rowconfigure(i, weight=1)\n",
    "    app.grid_columnconfigure(0, weight=1)\n",
    "    app.grid_columnconfigure(1, weight=1)\n",
    "\n",
    "# 啟動主循環\n",
    "center_window(app)\n",
    "\n",
    "# 啟動主循環\n",
    "app.mainloop()"
   ]
  },
  {
   "cell_type": "code",
   "execution_count": null,
   "metadata": {},
   "outputs": [],
   "source": []
  }
 ],
 "metadata": {
  "kernelspec": {
   "display_name": "base",
   "language": "python",
   "name": "python3"
  },
  "language_info": {
   "codemirror_mode": {
    "name": "ipython",
    "version": 3
   },
   "file_extension": ".py",
   "mimetype": "text/x-python",
   "name": "python",
   "nbconvert_exporter": "python",
   "pygments_lexer": "ipython3",
   "version": "3.9.13"
  }
 },
 "nbformat": 4,
 "nbformat_minor": 2
}
