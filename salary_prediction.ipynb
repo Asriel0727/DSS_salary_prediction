{
 "cells": [
  {
   "cell_type": "markdown",
   "metadata": {},
   "source": [
    "# 薪資預測與職涯規劃"
   ]
  },
  {
   "cell_type": "markdown",
   "metadata": {},
   "source": [
    "## 目錄\n",
    "- 資料庫建立\n",
    "- 模型建構\n",
    "- 介面開發"
   ]
  },
  {
   "cell_type": "markdown",
   "metadata": {},
   "source": [
    "### 資料庫建立"
   ]
  },
  {
   "cell_type": "code",
   "execution_count": 8,
   "metadata": {},
   "outputs": [
    {
     "data": {
      "text/plain": [
       "0      None\n",
       "1      None\n",
       "2      None\n",
       "3      None\n",
       "4      None\n",
       "       ... \n",
       "363    None\n",
       "364    None\n",
       "365    None\n",
       "366    None\n",
       "367    None\n",
       "Length: 368, dtype: object"
      ]
     },
     "execution_count": 8,
     "metadata": {},
     "output_type": "execute_result"
    },
    {
     "name": "stdout",
     "output_type": "stream",
     "text": [
      "(368, 'MIC', 'Sales', 6.0, 2.0, 4.2, 2.0, 180, 2, 2, 4)\n",
      "(367, 'ME', 'Sustomer service', 0.0, 1.0, 3.6, 1.0, 230, 0, 5, 0)\n",
      "(366, 'QUANTA', 'Software Engineer', 5.0, 1.0, 4.5, 5.0, 200, 3, 3, 5)\n",
      "(365, 'ME', 'VTuber project production', 0.0, 1.0, 3.9, 7.4, 104, 0, 5, 1)\n",
      "(364, 'Yang Ming Marine Transport Corp', 'Legal', 0.0, 1.0, 4.3, 7.4, 160, 1, 4, 2)\n"
     ]
    }
   ],
   "source": [
    "from sqlalchemy import create_engine, Column, Integer, String, Float, MetaData, Table, desc\n",
    "from sqlalchemy.orm import sessionmaker\n",
    "import pandas as pd\n",
    "import os\n",
    "\n",
    "# Database file path\n",
    "db_file = 'salary_database.db'\n",
    "\n",
    "# Delete the existing database file if it exists\n",
    "if os.path.exists(db_file):\n",
    "    os.remove(db_file)\n",
    "    \n",
    "# Define the database schema\n",
    "metadata = MetaData()\n",
    "\n",
    "# Define the table structure\n",
    "data_table = Table('salary_data', metadata,\n",
    "                   Column('id', Integer, primary_key=True),\n",
    "                   Column('company_name', String),\n",
    "                   Column('position', String),\n",
    "                   Column('related_experience_years', Float),\n",
    "                   Column('current_job_experience_years', Float),\n",
    "                   Column('monthly_salary', Float),\n",
    "                   Column('monthly_bonus', Float),\n",
    "                   Column('average_monthly_working_hours', Integer),\n",
    "                   Column('overtime_frequency', Integer),\n",
    "                   Column('comfort_level', Integer),\n",
    "                   Column('workload', Integer))\n",
    "\n",
    "# Create a file-based SQLite database\n",
    "engine = create_engine(f'sqlite:///{db_file}')\n",
    "metadata.create_all(engine)\n",
    "\n",
    "# Create a session\n",
    "Session = sessionmaker(bind=engine)\n",
    "session = Session()\n",
    "\n",
    "# Load the CSV file\n",
    "df = pd.read_csv('./new_salary.csv')  # Replace with the path to your CSV file\n",
    "\n",
    "# Function to add a row to the database\n",
    "def add_row(row):\n",
    "    insert_statement = data_table.insert().values(\n",
    "        company_name=row['公司名稱'],\n",
    "        position=row['職務'],\n",
    "        related_experience_years=row['相關年資(Y)'],\n",
    "        current_job_experience_years=row['現職年資(Y)'],\n",
    "        monthly_salary=row['月底薪(萬)'],\n",
    "        monthly_bonus=row['Bonus (月)'],\n",
    "        average_monthly_working_hours=row['每月平均工時'],\n",
    "        overtime_frequency=row['加班頻率'],\n",
    "        comfort_level=row['爽度(1~5) 5最爽'],\n",
    "        workload=row['Loading(5最重)'])\n",
    "    session.execute(insert_statement)\n",
    "\n",
    "# Import data into the database\n",
    "df.apply(add_row, axis=1)\n",
    "session.commit()\n",
    "\n",
    "# Querying the last 5 entries from the database\n",
    "query_result = session.query(data_table).order_by(desc(data_table.c.id)).limit(5).all()\n",
    "for row in query_result:\n",
    "    print(row)  # This will print out the last five rows from the database\n",
    "\n",
    "# Close the session\n",
    "session.close()"
   ]
  },
  {
   "cell_type": "markdown",
   "metadata": {},
   "source": [
    "### 模型建構"
   ]
  },
  {
   "cell_type": "code",
   "execution_count": 9,
   "metadata": {},
   "outputs": [
    {
     "data": {
      "text/plain": [
       "RandomForestRegressor(random_state=19)"
      ]
     },
     "execution_count": 9,
     "metadata": {},
     "output_type": "execute_result"
    },
    {
     "name": "stdout",
     "output_type": "stream",
     "text": [
      "RMSE: 2.317256159363506\n",
      "R^2: 0.5018455019570851\n"
     ]
    }
   ],
   "source": [
    "from sqlalchemy import create_engine\n",
    "import numpy as np\n",
    "import pandas as pd\n",
    "from sklearn.ensemble import RandomForestRegressor\n",
    "from sklearn.metrics import mean_squared_error, r2_score\n",
    "from sklearn.model_selection import train_test_split\n",
    "from sklearn.preprocessing import LabelEncoder\n",
    "\n",
    "# Database file path\n",
    "db_file = 'salary_database.db'\n",
    "\n",
    "# Create a connection to the SQLite database\n",
    "engine = create_engine(f'sqlite:///{db_file}')\n",
    "\n",
    "# Read data from the database\n",
    "query = \"SELECT * FROM salary_data\"\n",
    "df = pd.read_sql_query(query, engine)\n",
    "\n",
    "# Data preprocessing (same as your current process)\n",
    "cols_to_float = ['related_experience_years', 'current_job_experience_years', \n",
    "                 'monthly_salary', 'monthly_bonus', 'average_monthly_working_hours', \n",
    "                 'overtime_frequency', 'comfort_level', 'workload']\n",
    "\n",
    "for col in cols_to_float:\n",
    "    df[col] = pd.to_numeric(df[col], errors='coerce')\n",
    "\n",
    "non_numeric_cols = df.select_dtypes(include=['object']).columns\n",
    "df = df.dropna()\n",
    "\n",
    "for col in non_numeric_cols:\n",
    "    df[col] = LabelEncoder().fit_transform(df[col].astype(str))\n",
    "\n",
    "# Feature and target selection\n",
    "X = df.drop(columns=['id', 'monthly_salary'])\n",
    "y = df['monthly_salary']\n",
    "\n",
    "# Splitting dataset\n",
    "X_train, X_test, y_train, y_test = train_test_split(X, y, test_size=0.2, random_state=45)\n",
    "\n",
    "# Model training\n",
    "rf_model = RandomForestRegressor(random_state=19)\n",
    "rf_model.fit(X_train, y_train)\n",
    "\n",
    "# Prediction and model evaluation\n",
    "y_pred = rf_model.predict(X_test)\n",
    "rmse_rf = np.sqrt(mean_squared_error(y_test, y_pred))\n",
    "r2_rf = r2_score(y_test, y_pred)\n",
    "\n",
    "print(\"RMSE:\", rmse_rf)\n",
    "print(\"R^2:\", r2_rf)"
   ]
  },
  {
   "cell_type": "markdown",
   "metadata": {},
   "source": [
    "### 介面開發"
   ]
  },
  {
   "cell_type": "code",
   "execution_count": 10,
   "metadata": {},
   "outputs": [
    {
     "data": {
      "text/plain": [
       "''"
      ]
     },
     "execution_count": 10,
     "metadata": {},
     "output_type": "execute_result"
    },
    {
     "name": "stdout",
     "output_type": "stream",
     "text": [
      "Predicted Salary: [5.497]\n"
     ]
    }
   ],
   "source": [
    "from sqlalchemy import create_engine\n",
    "import pandas as pd\n",
    "import json\n",
    "import tkinter as tk\n",
    "from tkinter import ttk\n",
    "from sklearn.preprocessing import LabelEncoder\n",
    "\n",
    "# 載入公司對應的編碼映射 指定檔案編碼為 utf-8\n",
    "with open('company.txt', 'r', encoding='utf-8') as file:\n",
    "    company = json.load(file)\n",
    "\n",
    "# 載入職位對應的編碼映射\n",
    "with open('job_title.txt', 'r') as file:\n",
    "    job_title_to_number = json.load(file)\n",
    "\n",
    "def center_window(window):\n",
    "    window.update_idletasks()\n",
    "    width = window.winfo_width()\n",
    "    height = window.winfo_height()\n",
    "    x_coordinate = (window.winfo_screenwidth() - width) // 2\n",
    "    y_coordinate = (window.winfo_screenheight() - height) // 2\n",
    "    window.geometry(f\"{width}x{height}+{x_coordinate}+{y_coordinate}\")\n",
    "\n",
    "# 創建應用程序窗口\n",
    "app = tk.Tk()\n",
    "app.title(\"薪資預測應用\")\n",
    "\n",
    "# 創建公司名稱下拉選單\n",
    "company_label = tk.Label(app, text=\"公司名稱:\")\n",
    "company_label.grid(row=0, column=0, padx=10, pady=5)\n",
    "company_var = tk.StringVar()\n",
    "company_dropdown = ttk.Combobox(app, textvariable=company_var, values=list(company.keys()))\n",
    "company_dropdown.grid(row=0, column=1, padx=10, pady=5)\n",
    "company_dropdown.configure(width=30)\n",
    "\n",
    "# 創建職務下拉選單\n",
    "position_label = tk.Label(app, text=\"職務:\")\n",
    "position_label.grid(row=1, column=0, padx=10, pady=5)\n",
    "position_var = tk.StringVar()\n",
    "position_dropdown = ttk.Combobox(app, textvariable=position_var, values=list(job_title_to_number.keys()))\n",
    "position_dropdown.grid(row=1, column=1, padx=10, pady=5)\n",
    "position_dropdown.configure(width=30)\n",
    "\n",
    "# 創建其他輸入框\n",
    "labels = [\"相關年資(Y)\", \"現職年資(Y)\", \"Bonus (月)\", \"每月平均工時\", \"加班頻率\", \"爽度(1~5) 5最爽\", \"Loading(5最重)\"]\n",
    "variables = [tk.DoubleVar(value = None) for _ in labels]\n",
    "entries = [ttk.Entry(app, textvariable=var) for var in variables]\n",
    "\n",
    "for i, label in enumerate(labels):\n",
    "    tk.Label(app, text=label + \":\").grid(row=i + 2, column=0, padx=10, pady=5)\n",
    "    entries[i].grid(row=i + 2, column=1, padx=10, pady=5)\n",
    "    entries[i].configure(width=30)\n",
    "\n",
    "# 定義預測函數\n",
    "def predict_salary():\n",
    "    \n",
    "    if all(entry.get() != '' and entry.get().replace('.', '').isdigit() for entry in entries):\n",
    "        if 0 <= variables[0].get() <= 100:  # Check if '相關年資(Y)' is between 18 and 100\n",
    "            if 0 <= variables[1].get() <= 100:  # Check if '現職年資(Y)' is between 0 and 100\n",
    "                if 0 <= variables[2].get() <= 12:  # Check if 'Bonus (月)' is between 1 and 12\n",
    "                    if 0 <= variables[4].get() <= 5:  # Check if '加班頻率' is between 1 and 5\n",
    "                        if 1 <= variables[3].get() <= 230:  # Check if '每月平均工時' is between 1 and 230\n",
    "                            if 1 <= variables[5].get() <= 5:  # Check if '爽度(1~5) 最爽' is between 1 and 5\n",
    "                                if 1 <= variables[6].get() <= 5:  # Check if 'Loading(5最重)' is between 1 and 5\n",
    "                                    data = pd.DataFrame({\n",
    "                                        'company_name': [company_var.get()],\n",
    "                                        'position': [position_var.get()],\n",
    "                                        'related_experience_years': [variables[0].get()],\n",
    "                                        'current_job_experience_years': [variables[1].get()],\n",
    "                                        'monthly_bonus': [variables[2].get()],\n",
    "                                        'average_monthly_working_hours': [variables[3].get()],\n",
    "                                        'overtime_frequency': [variables[4].get()],\n",
    "                                        'comfort_level': [variables[5].get()],\n",
    "                                        'workload': [variables[6].get()]\n",
    "                                    })\n",
    "                                    for col in ['related_experience_years', 'current_job_experience_years', 'monthly_bonus', 'average_monthly_working_hours', 'overtime_frequency', 'comfort_level', 'workload']:\n",
    "                                        data[col] = pd.to_numeric(data[col], errors='coerce')\n",
    "                                    \n",
    "                                    # 针对非数值列进行标签编码\n",
    "                                    label_encoders = {} \n",
    "                                    # 合併訓練集和測試集的非數值類型資料\n",
    "                                    combined_data = pd.concat([df[non_numeric_cols], data[non_numeric_cols]], axis=0)\n",
    "\n",
    "                                    # 創建 LabelEncoder 物件並對所有資料進行編碼\n",
    "                                    label_encoders = {}\n",
    "                                    for col in non_numeric_cols:\n",
    "                                        label_encoders[col] = LabelEncoder()\n",
    "                                        combined_data[col] = label_encoders[col].fit_transform(combined_data[col].astype(str))\n",
    "\n",
    "                                    # 將編碼應用到訓練集和測試集的資料上\n",
    "                                    for col in non_numeric_cols:\n",
    "                                        df[col] = label_encoders[col].transform(df[col].astype(str))\n",
    "                                        data[col] = label_encoders[col].transform(data[col].astype(str))\n",
    "\n",
    "                                    predicted_salary = rf_model.predict(data)\n",
    "                                    print(\"Predicted Salary:\", predicted_salary)\n",
    "                                    result_label.config(text=f\"預測薪資: {round(predicted_salary[0], 1)} 萬\",fg=\"black\")\n",
    "                                else:\n",
    "                                    result_label.config(text=\"Loading(5最重)必須介於1~5之間\", fg=\"red\")\n",
    "                            else:\n",
    "                                result_label.config(text=\"爽度(1~5) 最爽必須介於1~5之間\", fg=\"red\")\n",
    "                        else:\n",
    "                            result_label.config(text=\"每月平均工時必須介於1~230\", fg=\"red\")\n",
    "                    else:\n",
    "                        result_label.config(text=\"加班頻率必須介於1~5之間\", fg=\"red\")\n",
    "                else:\n",
    "                    result_label.config(text=\"Bonus (月)必須介於0~12之間\", fg=\"red\")\n",
    "            else:\n",
    "                result_label.config(text=\"現職年資(Y)不能超過100\", fg=\"red\")\n",
    "        else:\n",
    "            result_label.config(text=\"相關年資(Y)不能小於0且不能超過100\", fg=\"red\")\n",
    "    else:\n",
    "        result_label.config(text=\"請填寫所有輸入框，且輸入有效數字\", fg=\"red\")  # 設定文字顏色為紅色\n",
    "\n",
    "# 添加預測按鈕\n",
    "predict_button = tk.Button(app, text=\"預測薪資\", command=predict_salary)\n",
    "predict_button.grid(row=len(labels) + 2, column=0, columnspan=2, pady=10)\n",
    "\n",
    "# 顯示預測結果的標籤\n",
    "result_label = tk.Label(app, text=\"\")\n",
    "result_label.grid(row=len(labels) + 3, column=0, columnspan=2, pady=5)\n",
    "\n",
    "# 設定 grid 權重，使其能夠自適應大小\n",
    "for i in range(len(labels) + 4):\n",
    "    app.grid_rowconfigure(i, weight=1)\n",
    "    app.grid_columnconfigure(0, weight=1)\n",
    "    app.grid_columnconfigure(1, weight=1)\n",
    "\n",
    "# 啟動主循環\n",
    "center_window(app)\n",
    "\n",
    "# 啟動主循環\n",
    "app.mainloop()"
   ]
  }
 ],
 "metadata": {
  "kernelspec": {
   "display_name": "base",
   "language": "python",
   "name": "python3"
  },
  "language_info": {
   "codemirror_mode": {
    "name": "ipython",
    "version": 3
   },
   "file_extension": ".py",
   "mimetype": "text/x-python",
   "name": "python",
   "nbconvert_exporter": "python",
   "pygments_lexer": "ipython3",
   "version": "3.9.13"
  }
 },
 "nbformat": 4,
 "nbformat_minor": 2
}
